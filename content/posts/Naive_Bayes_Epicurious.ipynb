{
 "metadata": {
  "language": "Julia",
  "name": "",
  "signature": "sha256:a51ca34ef9c5d6dce9d19c583e1de6f0c85049c6f49b90ae15cba0290c445939"
 },
 "nbformat": 3,
 "nbformat_minor": 0,
 "worksheets": [
  {
   "cells": [
    {
     "cell_type": "markdown",
     "metadata": {},
     "source": [
      "# Naive Bayes Classifier on Epicurious Recipes\n",
      "\n",
      "Motoki Wu ([@plusepsilon](http://twitter.com/plusepsilon))\n",
      "\n",
      "This is an [IJulia](https://github.com/JuliaLang/IJulia.jl) notebook. It runs a naive Bayes classifier on some [Epicurious](http://www.epicurious.com) recipe data as an exercise to learn more [Julia](http://julialang.org).\n",
      "\n",
      "A better, more Julia-like implementation is [here](https://github.com/johnmyleswhite/NaiveBayes.jl)."
     ]
    },
    {
     "cell_type": "markdown",
     "metadata": {},
     "source": [
      "### Convenience functions\n",
      "\n",
      "Each line of the data contains the name of the cuisine, then the list of ingredients. I create a `RaggedMatrix` type (alias) to deal with string data of indeterminant length. The `parse` function will split the data into ingredients and cuisines. I also have a `count_vector` that counts the items in a single dimension array (or a vector in R sense, or a list in Python sense). "
     ]
    },
    {
     "cell_type": "code",
     "collapsed": false,
     "input": [
      "typealias RaggedMatrix{T} Array{Array{T,1},1}\n",
      "\n",
      "function parse(filename)\n",
      "    file = readlines(open(filename))\n",
      "\n",
      "    x = convert(RaggedMatrix{String},\n",
      "            [apply(vcat, [rstrip(term) for term in split(line, '\\t')[2:]]) \n",
      "             for line in file])\n",
      "    y = [split(line, '\\t')[1] for line in file]\n",
      "\n",
      "    return(x, y)\n",
      "end\n"
     ],
     "language": "python",
     "metadata": {},
     "outputs": [
      {
       "metadata": {},
       "output_type": "pyout",
       "prompt_number": 1,
       "text": [
        "parse (generic function with 1 method)"
       ]
      }
     ],
     "prompt_number": 1
    },
    {
     "cell_type": "code",
     "collapsed": false,
     "input": [
      "# I'm not a CS person.. prolly not most efficient\n",
      "function count_vector(v::Array)\n",
      "    v_counts = Dict()\n",
      "    v_uniq = unique(v)\n",
      "    for name in v_uniq\n",
      "        counts = sum([i == name for i in v])\n",
      "        push!(v_counts, name, counts)\n",
      "    end\n",
      "    v_counts\n",
      "end\n",
      "        "
     ],
     "language": "python",
     "metadata": {},
     "outputs": [
      {
       "metadata": {},
       "output_type": "pyout",
       "prompt_number": 2,
       "text": [
        "count_vector (generic function with 1 method)"
       ]
      }
     ],
     "prompt_number": 2
    },
    {
     "cell_type": "markdown",
     "metadata": {},
     "source": [
      "### Data\n",
      "\n",
      "Data is from Yong-Yeol Ahn from a paper that was fairly well noticed (food networks, not that kind). There are other recipes but I decided to use Epicurious."
     ]
    },
    {
     "cell_type": "code",
     "collapsed": false,
     "input": [
      "# get data heeeeeeeere\n",
      "# from Yong-Yeol \u201cYY\u201d Ahn\n",
      "# Flavor network and the principles of food pairing \n",
      "# http://yongyeol.com/data/scirep-cuisines-detail.zip\n",
      "filename = \"../data/scirep-cuisines-detail/epic_recipes.txt\"\n",
      "\n",
      "x, y = parse(filename)\n",
      "print()"
     ],
     "language": "python",
     "metadata": {},
     "outputs": [],
     "prompt_number": 3
    },
    {
     "cell_type": "code",
     "collapsed": false,
     "input": [
      "# number of recipes\n",
      "length(y)"
     ],
     "language": "python",
     "metadata": {},
     "outputs": [
      {
       "metadata": {},
       "output_type": "pyout",
       "prompt_number": 76,
       "text": [
        "13408"
       ]
      }
     ],
     "prompt_number": 76
    },
    {
     "cell_type": "code",
     "collapsed": false,
     "input": [
      "# count all the cuisines\n",
      "y_counts = count_vector(y)\n",
      "[i for i in y_counts]"
     ],
     "language": "python",
     "metadata": {},
     "outputs": [
      {
       "metadata": {},
       "output_type": "pyout",
       "prompt_number": 77,
       "text": [
        "26-element Array{Any,1}:\n",
        " (\"MiddleEastern\",248)          \n",
        " (\"Asian\",1176)                 \n",
        " (\"Indian\",274)                 \n",
        " (\"American\",4988)              \n",
        " (\"Thai\",164)                   \n",
        " (\"Southwestern\",108)           \n",
        " (\"African\",115)                \n",
        " (\"Central_SouthAmerican\",241)  \n",
        " (\"German\",52)                  \n",
        " (\"Mexican\",622)                \n",
        " (\"Chinese\",226)                \n",
        " (\"English_Scottish\",204)       \n",
        " (\"Vietnamese\",65)              \n",
        " (\"Scandinavian\",92)            \n",
        " (\"Japanese\",136)               \n",
        " (\"Moroccan\",137)               \n",
        " (\"Jewish\",320)                 \n",
        " (\"French\",996)                 \n",
        " (\"Greek\",225)                  \n",
        " (\"Italian\",1715)               \n",
        " (\"Spanish_Portuguese\",291)     \n",
        " (\"Southern_SoulFood\",346)      \n",
        " (\"Cajun_Creole\",146)           \n",
        " (\"Irish\",86)                   \n",
        " (\"EasternEuropean_Russian\",146)\n",
        " (\"Mediterranean\",289)          "
       ]
      }
     ],
     "prompt_number": 77
    },
    {
     "cell_type": "code",
     "collapsed": false,
     "input": [
      "# each document is a recipe\n",
      "y[1], x[1]"
     ],
     "language": "python",
     "metadata": {},
     "outputs": [
      {
       "metadata": {},
       "output_type": "pyout",
       "prompt_number": 5,
       "text": [
        "(\"Vietnamese\",[\"vinegar\",\"cilantro\",\"mint\",\"olive_oil\",\"cayenne\",\"fish\",\"lime_juice\",\"shrimp\",\"lettuce\",\"carrot\",\"garlic\",\"basil\",\"cucumber\",\"rice\",\"seed\",\"shiitake\"])"
       ]
      }
     ],
     "prompt_number": 5
    },
    {
     "cell_type": "code",
     "collapsed": false,
     "input": [
      "# create lookup dictionaries\n",
      "all_cuisines = unique(y)\n",
      "cuisines = (String=>Int64)[all_cuisines[i] => i for i in 1:length(all_cuisines)]\n",
      "rev_cuisines = (Int64=>String)[cuisines[i] => i for i in all_cuisines]\n",
      "\n",
      "all_ingredients = unique(apply(vcat, [line for line in x]))\n",
      "ingredients = (String=>Int64)[all_ingredients[i] => i for i in 1:length(all_ingredients)]\n",
      "rev_ingredients = (Int64=>String)[ingredients[i] => i for i in all_ingredients]\n",
      "print()"
     ],
     "language": "python",
     "metadata": {},
     "outputs": [],
     "prompt_number": 6
    },
    {
     "cell_type": "markdown",
     "metadata": {},
     "source": [
      "### Vectorize -> Fit -> Predict\n",
      "\n",
      "Vaguely following the scikit model, I write functions for vectorization, fitting and prediction. Coming from a dynamically typed language, I found the typed variables a nice reminder of what the inputs are going to be. I didn't take advantage of [multiple dispatch](http://nbviewer.ipython.org/gist/StefanKarpinski/b8fe9dbb36c1427b9f22) since so far I only have one data type and one classifier. With some code that overlap, I can write a `count_vectorizer` of any data type that is available.\n",
      "\n",
      "I find the object-oriented model in Python more elegant with less typing, but the functional model in Julia makes for very general and flexible methods."
     ]
    },
    {
     "cell_type": "code",
     "collapsed": false,
     "input": [
      "# ingredients x cuisines (feature x class) matrix\n",
      "# count the words for each cuisine\n",
      "function count_vectorizer(x::RaggedMatrix{String}, y::Array{String,1},\n",
      "    features::Dict{String,Int64}, classes::Dict{String,Int64})\n",
      "    \n",
      "    \n",
      "    X = zeros(length(features), length(classes))\n",
      "\n",
      "    for c in keys(classes)\n",
      "        features_for_class = apply(vcat, [i for i in x[find(_ -> _ == c, y)]])\n",
      "        for f in features_for_class\n",
      "            @inbounds X[features[f], classes[c]] += 1.0\n",
      "        end\n",
      "    end\n",
      "    X\n",
      "end\n"
     ],
     "language": "python",
     "metadata": {},
     "outputs": [
      {
       "metadata": {},
       "output_type": "pyout",
       "prompt_number": 7,
       "text": [
        "count_vectorizer (generic function with 1 method)"
       ]
      }
     ],
     "prompt_number": 7
    },
    {
     "cell_type": "code",
     "collapsed": false,
     "input": [
      "@timed X = count_vectorizer(x, y, ingredients, cuisines)"
     ],
     "language": "python",
     "metadata": {},
     "outputs": [
      {
       "metadata": {},
       "output_type": "pyout",
       "prompt_number": 8,
       "text": [
        "(\n",
        "350x26 Array{Float64,2}:\n",
        " 15.0   31.0   79.0  18.0  127.0   41.0  \u2026   11.0  56.0  20.0  397.0  17.0\n",
        " 24.0   79.0   30.0  18.0    7.0   75.0      43.0   5.0   4.0  244.0  56.0\n",
        " 21.0   35.0    7.0  14.0   19.0    7.0      20.0   2.0   4.0   97.0   2.0\n",
        "  2.0   40.0  183.0  80.0  307.0   75.0     100.0  47.0  27.0   78.0  43.0\n",
        " 30.0  125.0   70.0  21.0   38.0  125.0      40.0  84.0   3.0  345.0  88.0\n",
        " 51.0   11.0   24.0  14.0   68.0    8.0  \u2026   10.0   2.0   6.0  228.0   0.0\n",
        " 30.0   26.0   15.0   3.0    8.0   41.0       3.0   4.0   3.0  195.0  29.0\n",
        " 12.0   18.0   31.0   0.0   12.0   13.0       1.0  14.0   1.0  142.0   2.0\n",
        "  9.0    5.0    3.0   3.0   21.0    8.0       0.0   3.0   6.0   58.0   6.0\n",
        " 18.0   21.0   12.0  40.0  108.0    7.0      21.0  11.0   8.0  145.0   6.0\n",
        " 47.0  114.0  167.0  60.0  272.0  137.0  \u2026   63.0  89.0  19.0  565.0  67.0\n",
        " 18.0    3.0    6.0   4.0   69.0    1.0       6.0   8.0   5.0   66.0   0.0\n",
        " 11.0   20.0   15.0   8.0   23.0    3.0       4.0   2.0   8.0   92.0   2.0\n",
        "  \u22ee                                 \u22ee    \u22f1                             \u22ee  \n",
        "  0.0    0.0    0.0   0.0    0.0    0.0       0.0   0.0   0.0    0.0   0.0\n",
        "  0.0    0.0    0.0   0.0    0.0    0.0       0.0   0.0   0.0    0.0   0.0\n",
        "  0.0    0.0    0.0   0.0    0.0    0.0  \u2026    0.0   0.0   0.0    0.0   0.0\n",
        "  0.0    0.0    0.0   0.0    0.0    0.0       0.0   0.0   0.0    0.0   0.0\n",
        "  0.0    0.0    0.0   0.0    0.0    0.0       0.0   0.0   0.0    0.0   0.0\n",
        "  0.0    0.0    0.0   0.0    0.0    0.0       0.0   0.0   0.0    0.0   0.0\n",
        "  0.0    0.0    0.0   0.0    0.0    0.0       0.0   0.0   0.0    0.0   0.0\n",
        "  0.0    0.0    0.0   0.0    0.0    0.0  \u2026    0.0   0.0   0.0    0.0   0.0\n",
        "  0.0    0.0    0.0   0.0    0.0    0.0       0.0   0.0   0.0    0.0   0.0\n",
        "  0.0    0.0    0.0   0.0    0.0    0.0       0.0   1.0   0.0    0.0   0.0\n",
        "  0.0    0.0    0.0   0.0    0.0    0.0       0.0   0.0   1.0    0.0   0.0\n",
        "  0.0    0.0    0.0   0.0    0.0    0.0       0.0   0.0   0.0    1.0   0.0,\n",
        "\n",
        "0.369972388,9137872)"
       ]
      }
     ],
     "prompt_number": 8
    },
    {
     "cell_type": "code",
     "collapsed": false,
     "input": [
      "print(sum(X, 1))\n",
      "print(size(X))"
     ],
     "language": "python",
     "metadata": {},
     "outputs": [
      {
       "output_type": "stream",
       "stream": "stdout",
       "text": [
        "737\t2804\t2664\t2510\t8279\t2184\t1715\t1957\t759\t1997\t43541\t1220\t2330\t1311\t14436\t685\t5695\t2177\t504\t2498\t1160\t1482\t3055\t1658\t11644\t1123\n",
        "("
       ]
      },
      {
       "output_type": "stream",
       "stream": "stdout",
       "text": [
        "350,26)"
       ]
      }
     ],
     "prompt_number": 9
    },
    {
     "cell_type": "code",
     "collapsed": false,
     "input": [
      "function naive_bayes_fit(X::Array{Float64,2}, alpha::Float64 = 1.0)\n",
      "    \n",
      "    log_like = zeros(size(X))\n",
      "\n",
      "    # sum over classes\n",
      "    total = sum(X, 1)\n",
      "\n",
      "    # sum over rows for each class for performance reasons\n",
      "    for j in 1:size(X)[2]\n",
      "        @inbounds log_like[:,j] = log(X[:,j] + alpha) - log(total[j])\n",
      "    end\n",
      "    \n",
      "    #prior = ones(size(X)[2]) / length(size(X)[2]\n",
      "    #sum(log_like, 1)[:] + log(prior)\n",
      "    log_like\n",
      "end\n"
     ],
     "language": "python",
     "metadata": {},
     "outputs": [
      {
       "metadata": {},
       "output_type": "pyout",
       "prompt_number": 10,
       "text": [
        "naive_bayes_fit (generic function with 2 methods)"
       ]
      }
     ],
     "prompt_number": 10
    },
    {
     "cell_type": "code",
     "collapsed": false,
     "input": [
      "@timed log_like = naive_bayes_fit(X)\n"
     ],
     "language": "python",
     "metadata": {},
     "outputs": [
      {
       "metadata": {},
       "output_type": "pyout",
       "prompt_number": 11,
       "text": [
        "(\n",
        "350x26 Array{Float64,2}:\n",
        " -3.83     -4.47307  -3.50556  -4.8836   \u2026  -4.36884  -3.37609  -4.13339\n",
        " -3.38371  -3.55678  -4.4536   -4.8836      -5.80393  -3.86129  -2.98071\n",
        " -3.51155  -4.35528  -5.80814  -5.11999     -5.80393  -4.77758  -5.92515\n",
        " -5.50398  -4.22523  -2.67265  -3.43359     -4.08116  -4.9931   -3.23957\n",
        " -3.1686   -3.10252  -3.6249   -4.737       -6.02707  -3.51611  -2.53512\n",
        " -2.65134  -5.4539   -4.66871  -5.11999  \u2026  -5.46746  -3.92882  -7.02376\n",
        " -3.1686   -4.64297  -5.115    -6.44174     -6.02707  -4.08443  -3.62256\n",
        " -4.03764  -4.99436  -4.42185  -7.82804     -6.72022  -4.3997   -5.92515\n",
        " -4.3      -6.14704  -6.50129  -6.44174     -5.46746  -5.28501  -5.07785\n",
        " -3.65815  -4.84776  -5.32263  -4.11447     -5.21614  -4.37894  -5.07785\n",
        " -2.73139  -3.19387  -2.76362  -3.71716  \u2026  -4.41764  -3.02395  -2.80425\n",
        " -3.65815  -6.55251  -5.94167  -6.2186      -5.62161  -5.15785  -7.02376\n",
        " -4.11768  -4.89428  -5.115    -5.63081     -5.21614  -4.82995  -5.92515\n",
        "  \u22ee                                      \u22f1                       \u22ee      \n",
        " -6.60259  -7.9388   -7.88758  -7.82804     -7.41337  -9.36255  -7.02376\n",
        " -6.60259  -7.9388   -7.88758  -7.82804     -7.41337  -9.36255  -7.02376\n",
        " -6.60259  -7.9388   -7.88758  -7.82804  \u2026  -7.41337  -9.36255  -7.02376\n",
        " -6.60259  -7.9388   -7.88758  -7.82804     -7.41337  -9.36255  -7.02376\n",
        " -6.60259  -7.9388   -7.88758  -7.82804     -7.41337  -9.36255  -7.02376\n",
        " -6.60259  -7.9388   -7.88758  -7.82804     -7.41337  -9.36255  -7.02376\n",
        " -6.60259  -7.9388   -7.88758  -7.82804     -7.41337  -9.36255  -7.02376\n",
        " -6.60259  -7.9388   -7.88758  -7.82804  \u2026  -7.41337  -9.36255  -7.02376\n",
        " -6.60259  -7.9388   -7.88758  -7.82804     -7.41337  -9.36255  -7.02376\n",
        " -6.60259  -7.9388   -7.88758  -7.82804     -7.41337  -9.36255  -7.02376\n",
        " -6.60259  -7.9388   -7.88758  -7.82804     -6.72022  -9.36255  -7.02376\n",
        " -6.60259  -7.9388   -7.88758  -7.82804     -7.41337  -8.6694   -7.02376,\n",
        "\n",
        "0.104257086,2294464)"
       ]
      }
     ],
     "prompt_number": 11
    },
    {
     "cell_type": "code",
     "collapsed": false,
     "input": [
      "function naive_bayes_predict(predict::Array{String,1}, log_like::Array{Float64,2}, \n",
      "    prior::Array{Float64,1}, features::Dict{String,Int64}, rev_classes::Dict{Int64,String})\n",
      "\n",
      "    results = zeros(length(rev_classes))\n",
      "\n",
      "    for i in 1:length(rev_classes)\n",
      "        ind = convert(Array{Int64,1}, [features[i] for i in predict]) # not sure why i have to do this\n",
      "        results[i] = sum(log_like[ind, i]) + log(prior[i])\n",
      "    end\n",
      "\n",
      "    rev_classes[indmax(results)]\n",
      "end\n"
     ],
     "language": "python",
     "metadata": {},
     "outputs": [
      {
       "metadata": {},
       "output_type": "pyout",
       "prompt_number": 33,
       "text": [
        "naive_bayes_predict (generic function with 3 methods)"
       ]
      }
     ],
     "prompt_number": 33
    },
    {
     "cell_type": "code",
     "collapsed": false,
     "input": [
      "prior = ones(length(cuisines)) / length(cuisines)\n",
      "print()"
     ],
     "language": "python",
     "metadata": {},
     "outputs": [],
     "prompt_number": 24
    },
    {
     "cell_type": "markdown",
     "metadata": {},
     "source": [
      "### Prediction\n",
      "\n",
      "Now I can predict the cuisine given a list of ingredients."
     ]
    },
    {
     "cell_type": "code",
     "collapsed": false,
     "input": [
      "# A prediction\n",
      "i = 3\n",
      "y[i], naive_bayes_predict(x[i], log_like, prior, ingredients, rev_cuisines), x[i]"
     ],
     "language": "python",
     "metadata": {},
     "outputs": [
      {
       "metadata": {},
       "output_type": "pyout",
       "prompt_number": 43,
       "text": [
        "(\"Vietnamese\",\"Vietnamese\",[\"garlic\",\"soy_sauce\",\"lime_juice\",\"thai_pepper\"])"
       ]
      }
     ],
     "prompt_number": 43
    },
    {
     "cell_type": "code",
     "collapsed": false,
     "input": [
      "# another one\n",
      "i = 3000\n",
      "y[i], naive_bayes_predict(x[i], log_like, prior, ingredients, rev_cuisines), x[i]"
     ],
     "language": "python",
     "metadata": {},
     "outputs": [
      {
       "metadata": {},
       "output_type": "pyout",
       "prompt_number": 42,
       "text": [
        "(\"American\",\"German\",[\"cane_molasses\",\"butter\",\"wheat\",\"vanilla\",\"ginger\",\"honey\",\"nutmeg\",\"cinnamon\",\"lard\",\"egg\",\"milk\"])"
       ]
      }
     ],
     "prompt_number": 42
    },
    {
     "cell_type": "markdown",
     "metadata": {},
     "source": [
      "I can create a confusion matrix to see the overlap of the ingredients between cuisines. "
     ]
    },
    {
     "cell_type": "code",
     "collapsed": false,
     "input": [
      "confusion_matrix = zeros(length(cuisines), length(cuisines))\n",
      "\n",
      "for i in keys(cuisines)\n",
      "    cuisine = x[find(_ -> _ == i, y)]\n",
      "    total = length(cuisine)\n",
      "    for j in cuisine\n",
      "        predicted = naive_bayes_predict(j, log_like, prior, ingredients, rev_cuisines)\n",
      "        confusion_matrix[cuisines[i], cuisines[predicted]] += 1 / total\n",
      "    end\n",
      "end\n",
      "print()"
     ],
     "language": "python",
     "metadata": {},
     "outputs": [],
     "prompt_number": 58
    },
    {
     "cell_type": "code",
     "collapsed": false,
     "input": [
      "confusion_matrix"
     ],
     "language": "python",
     "metadata": {},
     "outputs": [
      {
       "metadata": {},
       "output_type": "pyout",
       "prompt_number": 59,
       "text": [
        "26x26 Array{Float64,2}:\n",
        " 0.907692    0.0         0.0         \u2026  0.0         0.0         0.0       \n",
        " 0.0218978   0.627737    0.0            0.0328467   0.00364964  0.0255474 \n",
        " 0.0274914   0.00343643  0.42268        0.0824742   0.0         0.0652921 \n",
        " 0.00625     0.009375    0.0125         0.065625    0.0         0.021875  \n",
        " 0.0100402   0.00401606  0.0291165      0.195783    0.00100402  0.0060241 \n",
        " 0.0207469   0.0165975   0.0746888   \u2026  0.0829876   0.00414938  0.190871  \n",
        " 0.0205479   0.00684932  0.0            0.0616438   0.00684932  0.0273973 \n",
        " 0.365854    0.0304878   0.0            0.0         0.0304878   0.00609756\n",
        " 0.0         0.0108696   0.0            0.0869565   0.0         0.0       \n",
        " 0.0         0.00444444  0.00444444     0.0311111   0.0         0.00444444\n",
        " 0.0280674   0.0114274   0.0252606   \u2026  0.152165    0.00240577  0.0643545 \n",
        " 0.026087    0.0521739   0.0173913      0.0347826   0.0         0.00869565\n",
        " 0.00806452  0.0322581   0.0201613      0.0322581   0.0         0.016129  \n",
        " 0.00684932  0.00684932  0.0205479      0.143836    0.0         0.0273973 \n",
        " 0.00116618  0.00116618  0.0268222      0.0874636   0.0         0.0110787 \n",
        " 0.0         0.0         0.0         \u2026  0.0930233   0.0         0.0       \n",
        " 0.0369775   0.00803859  0.0144695      0.0498392   0.0         0.302251  \n",
        " 0.039823    0.00884956  0.0            0.00884956  0.0265487   0.00442478\n",
        " 0.0         0.0         0.0            0.115385    0.0         0.0192308 \n",
        " 0.0         0.0103806   0.0484429      0.0484429   0.0         0.0138408 \n",
        " 0.0441176   0.00735294  0.0         \u2026  0.0220588   0.0147059   0.0       \n",
        " 0.00729927  0.0364964   0.0145985      0.0145985   0.0         0.00729927\n",
        " 0.00867052  0.00289017  0.0144509      0.106936    0.0         0.0606936 \n",
        " 0.00980392  0.00980392  0.0196078      0.485294    0.0         0.00490196\n",
        " 0.182823    0.0280612   0.0            0.0102041   0.0637755   0.00935374\n",
        " 0.00925926  0.00925926  0.0185185   \u2026  0.00925926  0.0185185   0.685185  "
       ]
      }
     ],
     "prompt_number": 59
    },
    {
     "cell_type": "markdown",
     "metadata": {},
     "source": [
      "What are the cuisines that are easiest to predict? Vietnamese."
     ]
    },
    {
     "cell_type": "code",
     "collapsed": false,
     "input": [
      "confuse = diag(confusion_matrix)\n",
      "sort([(rev_cuisines[i], confuse[i]) for i in 1:length(cuisines)])\n"
     ],
     "language": "python",
     "metadata": {},
     "outputs": [
      {
       "metadata": {},
       "output_type": "pyout",
       "prompt_number": 82,
       "text": [
        "26-element Array{(Any,Any),1}:\n",
        " (\"African\",0.32173913043478275)                \n",
        " (\"American\",0.00541299117882919)               \n",
        " (\"Asian\",0.06377551020408168)                  \n",
        " (\"Cajun_Creole\",0.7054794520547963)            \n",
        " (\"Central_SouthAmerican\",0.2531120331950211)   \n",
        " (\"Chinese\",0.756637168141594)                  \n",
        " (\"EasternEuropean_Russian\",0.26027397260273977)\n",
        " (\"English_Scottish\",0.48529411764705815)       \n",
        " (\"French\",0.14156626506024103)                 \n",
        " (\"German\",0.7692307692307696)                  \n",
        " (\"Greek\",0.6088888888888881)                   \n",
        " (\"Indian\",0.6277372262773735)                  \n",
        " (\"Irish\",0.6627906976744192)                   \n",
        " (\"Italian\",0.4740524781341024)                 \n",
        " (\"Japanese\",0.7794117647058805)                \n",
        " (\"Jewish\",0.3406249999999993)                  \n",
        " (\"Mediterranean\",0.33217993079584757)          \n",
        " (\"Mexican\",0.29099678456591677)                \n",
        " (\"MiddleEastern\",0.3225806451612901)           \n",
        " (\"Moroccan\",0.6131386861313863)                \n",
        " (\"Scandinavian\",0.6304347826086959)            \n",
        " (\"Southern_SoulFood\",0.3930635838150301)       \n",
        " (\"Southwestern\",0.6851851851851855)            \n",
        " (\"Spanish_Portuguese\",0.422680412371133)       \n",
        " (\"Thai\",0.4878048780487808)                    \n",
        " (\"Vietnamese\",0.9076923076923062)              "
       ]
      }
     ],
     "prompt_number": 82
    },
    {
     "cell_type": "markdown",
     "metadata": {},
     "source": [
      "Looks like \"Asian\" cuisine is so general that the classifier cannot predict correctly. Let's see what it's confused with."
     ]
    },
    {
     "cell_type": "code",
     "collapsed": false,
     "input": [
      "confuse = confusion_matrix[cuisines[\"Asian\"],:]\n",
      "[(rev_cuisines[i], confuse[i]) for i in 1:length(cuisines)]"
     ],
     "language": "python",
     "metadata": {},
     "outputs": [
      {
       "metadata": {},
       "output_type": "pyout",
       "prompt_number": 75,
       "text": [
        "26-element Array{(Any,Any),1}:\n",
        " (\"Vietnamese\",0.18282312925170086)               \n",
        " (\"Indian\",0.028061224489795925)                  \n",
        " (\"Spanish_Portuguese\",0.0)                       \n",
        " (\"Jewish\",0.004251700680272108)                  \n",
        " (\"French\",0.002551020408163265)                  \n",
        " (\"Central_SouthAmerican\",0.0008503401360544217)  \n",
        " (\"Cajun_Creole\",0.005952380952380952)            \n",
        " (\"Thai\",0.10034013605442185)                     \n",
        " (\"Scandinavian\",0.006802721088435374)            \n",
        " (\"Greek\",0.002551020408163265)                   \n",
        " (\"American\",0.0008503401360544217)               \n",
        " (\"African\",0.006802721088435374)                 \n",
        " (\"MiddleEastern\",0.0017006802721088435)          \n",
        " (\"EasternEuropean_Russian\",0.0008503401360544217)\n",
        " (\"Italian\",0.002551020408163265)                 \n",
        " (\"Irish\",0.003401360544217687)                   \n",
        " (\"Mexican\",0.002551020408163265)                 \n",
        " (\"Chinese\",0.31037414965986226)                  \n",
        " (\"German\",0.028911564625850348)                  \n",
        " (\"Mediterranean\",0.0)                            \n",
        " (\"Japanese\",0.2176870748299322)                  \n",
        " (\"Moroccan\",0.00510204081632653)                 \n",
        " (\"Southern_SoulFood\",0.0017006802721088435)      \n",
        " (\"English_Scottish\",0.010204081632653059)        \n",
        " (\"Asian\",0.06377551020408168)                    \n",
        " (\"Southwestern\",0.009353741496598638)            "
       ]
      }
     ],
     "prompt_number": 75
    },
    {
     "cell_type": "markdown",
     "metadata": {},
     "source": [
      "Yup, \"Asian\" is confused with other Asian cuisines."
     ]
    }
   ],
   "metadata": {}
  }
 ]
}